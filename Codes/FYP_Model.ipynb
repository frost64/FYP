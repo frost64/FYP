{
 "cells": [
  {
   "cell_type": "code",
   "execution_count": 1,
   "id": "9b781646-9462-453e-8074-07279650722b",
   "metadata": {},
   "outputs": [
    {
     "name": "stderr",
     "output_type": "stream",
     "text": [
      "[nltk_data] Downloading package stopwords to\n",
      "[nltk_data]     C:\\Users\\ASJID\\AppData\\Roaming\\nltk_data...\n",
      "[nltk_data]   Package stopwords is already up-to-date!\n"
     ]
    }
   ],
   "source": [
    "import pandas as pd\n",
    "import seaborn as sns\n",
    "\n",
    "import matplotlib.pyplot as plt\n",
    "%matplotlib inline\n",
    "from sklearn import model_selection\n",
    "from textblob import TextBlob \n",
    "import numpy as np\n",
    "import re\n",
    "import nltk\n",
    "nltk.download('stopwords')\n",
    "\n",
    "from gensim.parsing.porter import PorterStemmer\n",
    "from gensim.utils import tokenize\n",
    "\n",
    "from nltk.corpus import stopwords\n",
    "stopwords = [word for word in stopwords.words('english')]\n",
    "from sklearn.feature_extraction.text import TfidfVectorizer\n",
    "from sklearn.naive_bayes import MultinomialNB\n",
    "\n",
    "from sklearn.svm import SVC\n",
    "from sklearn.ensemble import VotingClassifier\n",
    "from sklearn.metrics import classification_report, confusion_matrix, accuracy_score"
   ]
  },
  {
   "cell_type": "code",
   "execution_count": null,
   "id": "a3e8fc09-92e6-47af-9085-237e57e88381",
   "metadata": {},
   "outputs": [],
   "source": []
  },
  {
   "cell_type": "code",
   "execution_count": 2,
   "id": "12bc944e-7113-4c15-97ff-11a1d782ed85",
   "metadata": {},
   "outputs": [
    {
     "data": {
      "text/html": [
       "<div>\n",
       "<style scoped>\n",
       "    .dataframe tbody tr th:only-of-type {\n",
       "        vertical-align: middle;\n",
       "    }\n",
       "\n",
       "    .dataframe tbody tr th {\n",
       "        vertical-align: top;\n",
       "    }\n",
       "\n",
       "    .dataframe thead th {\n",
       "        text-align: right;\n",
       "    }\n",
       "</style>\n",
       "<table border=\"1\" class=\"dataframe\">\n",
       "  <thead>\n",
       "    <tr style=\"text-align: right;\">\n",
       "      <th></th>\n",
       "      <th>Link</th>\n",
       "      <th>Name</th>\n",
       "      <th>polarity</th>\n",
       "      <th>battery_polarity</th>\n",
       "      <th>display_polarity</th>\n",
       "      <th>storage_polarity</th>\n",
       "      <th>camera_polarity</th>\n",
       "      <th>battery_sum</th>\n",
       "      <th>display_sum</th>\n",
       "      <th>storage_sum</th>\n",
       "      <th>camera_sum</th>\n",
       "      <th>label</th>\n",
       "    </tr>\n",
       "  </thead>\n",
       "  <tbody>\n",
       "    <tr>\n",
       "      <th>0</th>\n",
       "      <td>https://www.gsmarena.com/acer_chromebook_tab_1...</td>\n",
       "      <td>Acer Chromebook Tab 10</td>\n",
       "      <td>[1, 0, -1, 0, 0, 0, -1]</td>\n",
       "      <td>[0]</td>\n",
       "      <td>[1, 0, 0, -1, 0, 0]</td>\n",
       "      <td>[0, -1, -1]</td>\n",
       "      <td>[0]</td>\n",
       "      <td>0</td>\n",
       "      <td>0</td>\n",
       "      <td>-1</td>\n",
       "      <td>0</td>\n",
       "      <td>-1</td>\n",
       "    </tr>\n",
       "    <tr>\n",
       "      <th>1</th>\n",
       "      <td>https://www.gsmarena.com/acer_iconia_talk_s-83...</td>\n",
       "      <td>Acer Iconia Talk S</td>\n",
       "      <td>[1, 1, 1, -1, -1, -1, 1, -1]</td>\n",
       "      <td>[1, 1]</td>\n",
       "      <td>[1]</td>\n",
       "      <td>[1, 1, 1, 1]</td>\n",
       "      <td>[-1, -1, -1, -1, 1, 0]</td>\n",
       "      <td>1</td>\n",
       "      <td>1</td>\n",
       "      <td>1</td>\n",
       "      <td>-1</td>\n",
       "      <td>1</td>\n",
       "    </tr>\n",
       "    <tr>\n",
       "      <th>2</th>\n",
       "      <td>https://www.gsmarena.com/acer_liquid_z6_plus-8...</td>\n",
       "      <td>Acer Liquid Z6 Plus</td>\n",
       "      <td>[0, 1, -1, 0, 0, 0, 0, 1, 0, 0, 0]</td>\n",
       "      <td>[0, 0, 0, 0, 0, 0, 0, 0, 0, 0, 0, 0, 0]</td>\n",
       "      <td>[-1, -1, 1, 1, 0, 1]</td>\n",
       "      <td>[1, 0]</td>\n",
       "      <td>[-1, 0]</td>\n",
       "      <td>0</td>\n",
       "      <td>1</td>\n",
       "      <td>1</td>\n",
       "      <td>-1</td>\n",
       "      <td>1</td>\n",
       "    </tr>\n",
       "    <tr>\n",
       "      <th>3</th>\n",
       "      <td>https://www.gsmarena.com/acer_liquid_z6-8304.php</td>\n",
       "      <td>Acer Liquid Z6</td>\n",
       "      <td>[0, 1, 1]</td>\n",
       "      <td>[1]</td>\n",
       "      <td>[0, 0, 0, 1, 1]</td>\n",
       "      <td>[1, 1]</td>\n",
       "      <td>[0]</td>\n",
       "      <td>1</td>\n",
       "      <td>1</td>\n",
       "      <td>1</td>\n",
       "      <td>0</td>\n",
       "      <td>1</td>\n",
       "    </tr>\n",
       "    <tr>\n",
       "      <th>4</th>\n",
       "      <td>https://www.gsmarena.com/acer_iconia_tab_10_a3...</td>\n",
       "      <td>Acer Iconia Tab 10 A3-A40</td>\n",
       "      <td>[1, 1, 0, 1, 1]</td>\n",
       "      <td>[1, 1]</td>\n",
       "      <td>[1, 1, 1]</td>\n",
       "      <td>[1, 1, 1, 0]</td>\n",
       "      <td>[0]</td>\n",
       "      <td>1</td>\n",
       "      <td>1</td>\n",
       "      <td>1</td>\n",
       "      <td>0</td>\n",
       "      <td>1</td>\n",
       "    </tr>\n",
       "  </tbody>\n",
       "</table>\n",
       "</div>"
      ],
      "text/plain": [
       "                                                Link  \\\n",
       "0  https://www.gsmarena.com/acer_chromebook_tab_1...   \n",
       "1  https://www.gsmarena.com/acer_iconia_talk_s-83...   \n",
       "2  https://www.gsmarena.com/acer_liquid_z6_plus-8...   \n",
       "3   https://www.gsmarena.com/acer_liquid_z6-8304.php   \n",
       "4  https://www.gsmarena.com/acer_iconia_tab_10_a3...   \n",
       "\n",
       "                        Name                            polarity  \\\n",
       "0     Acer Chromebook Tab 10             [1, 0, -1, 0, 0, 0, -1]   \n",
       "1         Acer Iconia Talk S        [1, 1, 1, -1, -1, -1, 1, -1]   \n",
       "2        Acer Liquid Z6 Plus  [0, 1, -1, 0, 0, 0, 0, 1, 0, 0, 0]   \n",
       "3             Acer Liquid Z6                           [0, 1, 1]   \n",
       "4  Acer Iconia Tab 10 A3-A40                     [1, 1, 0, 1, 1]   \n",
       "\n",
       "                          battery_polarity      display_polarity  \\\n",
       "0                                      [0]   [1, 0, 0, -1, 0, 0]   \n",
       "1                                   [1, 1]                   [1]   \n",
       "2  [0, 0, 0, 0, 0, 0, 0, 0, 0, 0, 0, 0, 0]  [-1, -1, 1, 1, 0, 1]   \n",
       "3                                      [1]       [0, 0, 0, 1, 1]   \n",
       "4                                   [1, 1]             [1, 1, 1]   \n",
       "\n",
       "  storage_polarity         camera_polarity  battery_sum  display_sum  \\\n",
       "0      [0, -1, -1]                     [0]            0            0   \n",
       "1     [1, 1, 1, 1]  [-1, -1, -1, -1, 1, 0]            1            1   \n",
       "2           [1, 0]                 [-1, 0]            0            1   \n",
       "3           [1, 1]                     [0]            1            1   \n",
       "4     [1, 1, 1, 0]                     [0]            1            1   \n",
       "\n",
       "   storage_sum  camera_sum  label  \n",
       "0           -1           0     -1  \n",
       "1            1          -1      1  \n",
       "2            1          -1      1  \n",
       "3            1           0      1  \n",
       "4            1           0      1  "
      ]
     },
     "execution_count": 2,
     "metadata": {},
     "output_type": "execute_result"
    }
   ],
   "source": [
    "url = \"features_polarity_sum.csv\"\n",
    "data=pd.read_csv(url,low_memory = False)\n",
    "data.head()"
   ]
  },
  {
   "cell_type": "code",
   "execution_count": 3,
   "id": "38fd5a75-8904-4afe-8066-6b1071964ab2",
   "metadata": {},
   "outputs": [],
   "source": [
    "# data1 = data['battery_sum'],data['display_sum'],data['storage_sum'],data['camera_sum']\n",
    "data2= pd.DataFrame()\n",
    "data2[\"battery_sum\"] = data['battery_sum']\n",
    "data2[\"display_sum\"] =data['display_sum']\n",
    "data2[\"storage_sum\"]=data['storage_sum']\n",
    "data2[\"camera_sum\"] = data['camera_sum']\n"
   ]
  },
  {
   "cell_type": "code",
   "execution_count": 4,
   "id": "14d21bc3-91c7-4e23-830b-2a57d5d57e77",
   "metadata": {},
   "outputs": [
    {
     "data": {
      "text/html": [
       "<div>\n",
       "<style scoped>\n",
       "    .dataframe tbody tr th:only-of-type {\n",
       "        vertical-align: middle;\n",
       "    }\n",
       "\n",
       "    .dataframe tbody tr th {\n",
       "        vertical-align: top;\n",
       "    }\n",
       "\n",
       "    .dataframe thead th {\n",
       "        text-align: right;\n",
       "    }\n",
       "</style>\n",
       "<table border=\"1\" class=\"dataframe\">\n",
       "  <thead>\n",
       "    <tr style=\"text-align: right;\">\n",
       "      <th></th>\n",
       "      <th>battery_sum</th>\n",
       "      <th>display_sum</th>\n",
       "      <th>storage_sum</th>\n",
       "      <th>camera_sum</th>\n",
       "    </tr>\n",
       "  </thead>\n",
       "  <tbody>\n",
       "    <tr>\n",
       "      <th>0</th>\n",
       "      <td>0</td>\n",
       "      <td>0</td>\n",
       "      <td>-1</td>\n",
       "      <td>0</td>\n",
       "    </tr>\n",
       "    <tr>\n",
       "      <th>1</th>\n",
       "      <td>1</td>\n",
       "      <td>1</td>\n",
       "      <td>1</td>\n",
       "      <td>-1</td>\n",
       "    </tr>\n",
       "    <tr>\n",
       "      <th>2</th>\n",
       "      <td>0</td>\n",
       "      <td>1</td>\n",
       "      <td>1</td>\n",
       "      <td>-1</td>\n",
       "    </tr>\n",
       "    <tr>\n",
       "      <th>3</th>\n",
       "      <td>1</td>\n",
       "      <td>1</td>\n",
       "      <td>1</td>\n",
       "      <td>0</td>\n",
       "    </tr>\n",
       "    <tr>\n",
       "      <th>4</th>\n",
       "      <td>1</td>\n",
       "      <td>1</td>\n",
       "      <td>1</td>\n",
       "      <td>0</td>\n",
       "    </tr>\n",
       "    <tr>\n",
       "      <th>...</th>\n",
       "      <td>...</td>\n",
       "      <td>...</td>\n",
       "      <td>...</td>\n",
       "      <td>...</td>\n",
       "    </tr>\n",
       "    <tr>\n",
       "      <th>11056</th>\n",
       "      <td>0</td>\n",
       "      <td>0</td>\n",
       "      <td>0</td>\n",
       "      <td>0</td>\n",
       "    </tr>\n",
       "    <tr>\n",
       "      <th>11057</th>\n",
       "      <td>0</td>\n",
       "      <td>1</td>\n",
       "      <td>0</td>\n",
       "      <td>1</td>\n",
       "    </tr>\n",
       "    <tr>\n",
       "      <th>11058</th>\n",
       "      <td>0</td>\n",
       "      <td>0</td>\n",
       "      <td>0</td>\n",
       "      <td>-1</td>\n",
       "    </tr>\n",
       "    <tr>\n",
       "      <th>11059</th>\n",
       "      <td>0</td>\n",
       "      <td>0</td>\n",
       "      <td>1</td>\n",
       "      <td>0</td>\n",
       "    </tr>\n",
       "    <tr>\n",
       "      <th>11060</th>\n",
       "      <td>1</td>\n",
       "      <td>0</td>\n",
       "      <td>0</td>\n",
       "      <td>0</td>\n",
       "    </tr>\n",
       "  </tbody>\n",
       "</table>\n",
       "<p>11061 rows × 4 columns</p>\n",
       "</div>"
      ],
      "text/plain": [
       "       battery_sum  display_sum  storage_sum  camera_sum\n",
       "0                0            0           -1           0\n",
       "1                1            1            1          -1\n",
       "2                0            1            1          -1\n",
       "3                1            1            1           0\n",
       "4                1            1            1           0\n",
       "...            ...          ...          ...         ...\n",
       "11056            0            0            0           0\n",
       "11057            0            1            0           1\n",
       "11058            0            0            0          -1\n",
       "11059            0            0            1           0\n",
       "11060            1            0            0           0\n",
       "\n",
       "[11061 rows x 4 columns]"
      ]
     },
     "execution_count": 4,
     "metadata": {},
     "output_type": "execute_result"
    }
   ],
   "source": [
    "data2"
   ]
  },
  {
   "cell_type": "code",
   "execution_count": 6,
   "id": "58c1583d-28c0-429b-bb47-df48853a14af",
   "metadata": {},
   "outputs": [],
   "source": [
    "#for spliting data\n",
    "x =data2\n",
    "y = data['label']\n"
   ]
  },
  {
   "cell_type": "code",
   "execution_count": 7,
   "id": "af88e021-4035-45fa-af6a-f8de8a6eb2fa",
   "metadata": {},
   "outputs": [
    {
     "data": {
      "text/plain": [
       "SVC(kernel='linear')"
      ]
     },
     "execution_count": 7,
     "metadata": {},
     "output_type": "execute_result"
    }
   ],
   "source": [
    "train_x_svm=x[:8000]\n",
    "train_y_svm=y[:8000]\n",
    "svm_model = SVC(kernel='linear')\n",
    "svm_model.fit(train_x_svm,train_y_svm)"
   ]
  },
  {
   "cell_type": "code",
   "execution_count": 8,
   "id": "ea7cdf74-7552-4c6b-8c1f-d94aa4e981b3",
   "metadata": {},
   "outputs": [],
   "source": [
    "pred_x_svm=x[8000:]\n",
    "pred_y_svm=y[8000:]\n",
    "pred_svm=svm_model.predict(pred_x_svm)"
   ]
  },
  {
   "cell_type": "code",
   "execution_count": 11,
   "id": "bcb1d50e-1e14-48c0-871f-2905eeab61b0",
   "metadata": {},
   "outputs": [
    {
     "name": "stdout",
     "output_type": "stream",
     "text": [
      "SVM Matrix , accuracy and f1-score\n",
      "\n",
      "\n",
      "Svm confusion matrix : \n",
      " [[ 190  176]\n",
      " [  58 2637]]\n",
      "              precision    recall  f1-score   support\n",
      "\n",
      "          -1       0.77      0.52      0.62       366\n",
      "           1       0.94      0.98      0.96      2695\n",
      "\n",
      "    accuracy                           0.92      3061\n",
      "   macro avg       0.85      0.75      0.79      3061\n",
      "weighted avg       0.92      0.92      0.92      3061\n",
      "\n",
      "Accuracy of Model :  0.9235543939888925\n"
     ]
    }
   ],
   "source": [
    "svm_cf_matrix = confusion_matrix(pred_y_svm,pred_svm)\n",
    "# cf_matrix\n",
    "print(\"SVM Matrix , accuracy and f1-score\\n\\n\")\n",
    "print(\"Svm confusion matrix : \\n\",svm_cf_matrix)\n",
    "\n",
    "print(classification_report(pred_y_svm,pred_svm))\n",
    "print(\"Accuracy of Model : \",(accuracy_score(pred_y_svm,pred_svm)))"
   ]
  },
  {
   "cell_type": "code",
   "execution_count": 10,
   "id": "7ffd2fff-2776-43ca-bf64-a4feab9221b5",
   "metadata": {},
   "outputs": [
    {
     "data": {
      "image/png": "[encoded data removed]",
      "text/plain": [
       "<Figure size 432x288 with 2 Axes>"
      ]
     },
     "metadata": {
      "needs_background": "light"
     },
     "output_type": "display_data"
    }
   ],
   "source": [
    "ax = sns.heatmap(svm_cf_matrix, annot=svm_cf_matrix,  fmt='', cmap='Blues')\n",
    "\n",
    "ax.set_title('SVM Confusion Matrix\\n\\n');\n",
    "ax.set_xlabel('\\nPredicted Values')\n",
    "ax.set_ylabel('Actual Values ');\n",
    "\n",
    "# Ticket labels - List must be in alphabetical order\n",
    "ax.xaxis.set_ticklabels(['-1','1'])\n",
    "ax.yaxis.set_ticklabels(['-1','1'])\n",
    "\n",
    "# Display the visualization of the Confusion Matrix.\n",
    "plt.show()"
   ]
  },
  {
   "cell_type": "code",
   "execution_count": null,
   "id": "7965b962-933b-453a-93bf-3446664f661b",
   "metadata": {},
   "outputs": [],
   "source": []
  },
  {
   "cell_type": "code",
   "execution_count": null,
   "id": "445e01b7-e465-4294-8aed-8170ca78cc43",
   "metadata": {},
   "outputs": [],
   "source": []
  },
  {
   "cell_type": "code",
   "execution_count": null,
   "id": "884c5982-90e7-449a-a732-db2b52dd90ce",
   "metadata": {},
   "outputs": [],
   "source": []
  },
  {
   "cell_type": "code",
   "execution_count": null,
   "id": "0a358af2-03fe-4123-a902-5c595b599455",
   "metadata": {},
   "outputs": [],
   "source": []
  },
  {
   "cell_type": "code",
   "execution_count": null,
   "id": "5b0d8fff-4fd8-4bd8-987a-6d1975f5772a",
   "metadata": {},
   "outputs": [],
   "source": []
  },
  {
   "cell_type": "code",
   "execution_count": null,
   "id": "06f70881-6177-4015-acaf-4133bed7a015",
   "metadata": {},
   "outputs": [],
   "source": []
  },
  {
   "cell_type": "code",
   "execution_count": 198,
   "id": "15da5b09-dc80-445e-87dd-c0ba4d2e2a8c",
   "metadata": {},
   "outputs": [],
   "source": [
    "# sentece=\"visually device is fair but if we go with cell durations that is below mark.\"\n",
    "# url = \"features_polarity_sum_model_sample.csv\"\n",
    "# data=pd.read_csv(url,low_memory = False)\n",
    "# data.head()"
   ]
  },
  {
   "cell_type": "code",
   "execution_count": 199,
   "id": "da3c3bec-a29d-402a-a913-9f932e28504e",
   "metadata": {},
   "outputs": [],
   "source": [
    "# data_sample =pd.DataFrame()\n",
    "# data_sample[\"battery_sum\"] = data['battery_sum']\n",
    "# data_sample[\"display_sum\"] =data['display_sum']\n",
    "# data_sample[\"storage_sum\"]=data['storage_sum']\n",
    "# data_sample[\"camera_sum\"] = data['camera_sum']"
   ]
  },
  {
   "cell_type": "code",
   "execution_count": 200,
   "id": "e0946b3a-a2ab-45ae-8850-55b1620b9170",
   "metadata": {},
   "outputs": [],
   "source": [
    "# data_sample"
   ]
  },
  {
   "cell_type": "code",
   "execution_count": 201,
   "id": "0d27b3a2-5a03-4e05-8cab-9687880be70e",
   "metadata": {},
   "outputs": [],
   "source": [
    "\n",
    "# pred_svm=svm_model.predict(data_sample)"
   ]
  },
  {
   "cell_type": "code",
   "execution_count": 202,
   "id": "21a0f3a6-56ae-49df-be82-9af8858b7819",
   "metadata": {},
   "outputs": [],
   "source": [
    "# pred_svm"
   ]
  },
  {
   "cell_type": "code",
   "execution_count": null,
   "id": "e7790825-5a40-4453-964c-02af5d755277",
   "metadata": {},
   "outputs": [],
   "source": []
  }
 ],
 "metadata": {
  "kernelspec": {
   "display_name": "Python 3 (ipykernel)",
   "language": "python",
   "name": "python3"
  },
  "language_info": {
   "codemirror_mode": {
    "name": "ipython",
    "version": 3
   },
   "file_extension": ".py",
   "mimetype": "text/x-python",
   "name": "python",
   "nbconvert_exporter": "python",
   "pygments_lexer": "ipython3",
   "version": "3.9.7"
  }
 },
 "nbformat": 4,
 "nbformat_minor": 5
}

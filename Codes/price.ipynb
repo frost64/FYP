{
 "cells": [
  {
   "cell_type": "code",
   "execution_count": 1,
   "id": "b6022021-c5e6-4282-8802-4f53e0aee3b7",
   "metadata": {},
   "outputs": [],
   "source": [
    "import numpy as np\n",
    "import pandas as pd"
   ]
  },
  {
   "cell_type": "code",
   "execution_count": 12,
   "id": "793629bf-b1f7-4868-a18d-cce2eaa17f80",
   "metadata": {},
   "outputs": [],
   "source": [
    "url=\"topic modeling/reviews_polarity.csv\"\n",
    "dba=pd.read_csv(url,low_memory = False,sep =',')\n",
    "reviews = pd.DataFrame(dba)\n",
    "\n",
    "\n",
    "\n",
    "url = \"Data/all_brands_export.csv\"\n",
    "db=pd.read_csv(url,low_memory = False,sep =',')\n",
    "new_Data = pd.DataFrame(db)\n",
    "\n",
    "\n",
    "\n",
    "\n"
   ]
  },
  {
   "cell_type": "code",
   "execution_count": 16,
   "id": "835628e9-059b-4360-89ac-8a56ac4348b8",
   "metadata": {},
   "outputs": [
    {
     "data": {
      "text/plain": [
       "0        About 330 EUR\n",
       "1        About 170 EUR\n",
       "2        About 250 EUR\n",
       "3        About 120 EUR\n",
       "4        About 230 EUR\n",
       "             ...      \n",
       "10924              NaN\n",
       "10925              NaN\n",
       "10926              NaN\n",
       "10927              NaN\n",
       "10928              NaN\n",
       "Name: price, Length: 10929, dtype: object"
      ]
     },
     "execution_count": 16,
     "metadata": {},
     "output_type": "execute_result"
    }
   ],
   "source": [
    "reviews[\"reviews\"]\n",
    "new_Data[\"Link\"]\n",
    "new_Data[\"Name\"]\n",
    "new_Data[\"price\"]"
   ]
  },
  {
   "cell_type": "code",
   "execution_count": 24,
   "id": "59028d0c-88ed-4e6f-928c-d9f0ac3e19c4",
   "metadata": {},
   "outputs": [],
   "source": [
    "new_Data1 = pd.DataFrame()\n",
    "new_Data1[\"Link\"] = new_Data[\"Link\"]\n",
    "new_Data1[\"Name\"]=new_Data[\"Name\"]\n",
    "new_Data1[\"Price\"]=new_Data[\"price\"]\n",
    "new_Data1[\"reviews\"] = reviews[\"reviews\"]\n",
    "\n"
   ]
  },
  {
   "cell_type": "code",
   "execution_count": 25,
   "id": "4692280a-80dc-49df-9ded-0424c205c321",
   "metadata": {},
   "outputs": [
    {
     "data": {
      "text/html": [
       "<div>\n",
       "<style scoped>\n",
       "    .dataframe tbody tr th:only-of-type {\n",
       "        vertical-align: middle;\n",
       "    }\n",
       "\n",
       "    .dataframe tbody tr th {\n",
       "        vertical-align: top;\n",
       "    }\n",
       "\n",
       "    .dataframe thead th {\n",
       "        text-align: right;\n",
       "    }\n",
       "</style>\n",
       "<table border=\"1\" class=\"dataframe\">\n",
       "  <thead>\n",
       "    <tr style=\"text-align: right;\">\n",
       "      <th></th>\n",
       "      <th>Link</th>\n",
       "      <th>Name</th>\n",
       "      <th>Price</th>\n",
       "      <th>reviews</th>\n",
       "    </tr>\n",
       "  </thead>\n",
       "  <tbody>\n",
       "    <tr>\n",
       "      <th>0</th>\n",
       "      <td>https://www.gsmarena.com/acer_chromebook_tab_1...</td>\n",
       "      <td>Acer Chromebook Tab 10</td>\n",
       "      <td>About 330 EUR</td>\n",
       "      <td>['screen easily worthy device ipad users want ...</td>\n",
       "    </tr>\n",
       "    <tr>\n",
       "      <th>1</th>\n",
       "      <td>https://www.gsmarena.com/acer_iconia_talk_s-83...</td>\n",
       "      <td>Acer Iconia Talk S</td>\n",
       "      <td>About 170 EUR</td>\n",
       "      <td>['helmi nov get one freeokay get', 'get one fr...</td>\n",
       "    </tr>\n",
       "    <tr>\n",
       "      <th>2</th>\n",
       "      <td>https://www.gsmarena.com/acer_liquid_z6_plus-8...</td>\n",
       "      <td>Acer Liquid Z6 Plus</td>\n",
       "      <td>About 250 EUR</td>\n",
       "      <td>['last acer phone ever mad', 'arkinwhere aug m...</td>\n",
       "    </tr>\n",
       "    <tr>\n",
       "      <th>3</th>\n",
       "      <td>https://www.gsmarena.com/acer_liquid_z6-8304.php</td>\n",
       "      <td>Acer Liquid Z6</td>\n",
       "      <td>About 120 EUR</td>\n",
       "      <td>['edge screen fell part part', 'excellent phon...</td>\n",
       "    </tr>\n",
       "    <tr>\n",
       "      <th>4</th>\n",
       "      <td>https://www.gsmarena.com/acer_iconia_tab_10_a3...</td>\n",
       "      <td>Acer Iconia Tab 10 A3-A40</td>\n",
       "      <td>About 230 EUR</td>\n",
       "      <td>['sea apr know battery keeps draining fast got...</td>\n",
       "    </tr>\n",
       "    <tr>\n",
       "      <th>...</th>\n",
       "      <td>...</td>\n",
       "      <td>...</td>\n",
       "      <td>...</td>\n",
       "      <td>...</td>\n",
       "    </tr>\n",
       "    <tr>\n",
       "      <th>10924</th>\n",
       "      <td>https://www.gsmarena.com/zte_f103-3099.php</td>\n",
       "      <td>ZTE F103</td>\n",
       "      <td>NaN</td>\n",
       "      <td>['suggest try zte update tool']</td>\n",
       "    </tr>\n",
       "    <tr>\n",
       "      <th>10925</th>\n",
       "      <td>https://www.gsmarena.com/zte_f101-3101.php</td>\n",
       "      <td>ZTE F101</td>\n",
       "      <td>NaN</td>\n",
       "      <td>['buy battery zte cannot use phone bec battery...</td>\n",
       "    </tr>\n",
       "    <tr>\n",
       "      <th>10926</th>\n",
       "      <td>https://www.gsmarena.com/zte_f100-3100.php</td>\n",
       "      <td>ZTE F100</td>\n",
       "      <td>NaN</td>\n",
       "      <td>['typical phone time', 'nwhy introduce aparese...</td>\n",
       "    </tr>\n",
       "    <tr>\n",
       "      <th>10927</th>\n",
       "      <td>https://www.gsmarena.com/zte_coral200_sollar-3...</td>\n",
       "      <td>ZTE Coral200 Sollar</td>\n",
       "      <td>NaN</td>\n",
       "      <td>['cool', 'games phone', 'zte colar sollar sola...</td>\n",
       "    </tr>\n",
       "    <tr>\n",
       "      <th>10928</th>\n",
       "      <td>https://www.gsmarena.com/zte_blade_v20-9913.php</td>\n",
       "      <td>ZTE Blade V20</td>\n",
       "      <td>NaN</td>\n",
       "      <td>['redmagic sep cancelled miss phone much nstil...</td>\n",
       "    </tr>\n",
       "  </tbody>\n",
       "</table>\n",
       "<p>10929 rows × 4 columns</p>\n",
       "</div>"
      ],
      "text/plain": [
       "                                                    Link  \\\n",
       "0      https://www.gsmarena.com/acer_chromebook_tab_1...   \n",
       "1      https://www.gsmarena.com/acer_iconia_talk_s-83...   \n",
       "2      https://www.gsmarena.com/acer_liquid_z6_plus-8...   \n",
       "3       https://www.gsmarena.com/acer_liquid_z6-8304.php   \n",
       "4      https://www.gsmarena.com/acer_iconia_tab_10_a3...   \n",
       "...                                                  ...   \n",
       "10924         https://www.gsmarena.com/zte_f103-3099.php   \n",
       "10925         https://www.gsmarena.com/zte_f101-3101.php   \n",
       "10926         https://www.gsmarena.com/zte_f100-3100.php   \n",
       "10927  https://www.gsmarena.com/zte_coral200_sollar-3...   \n",
       "10928    https://www.gsmarena.com/zte_blade_v20-9913.php   \n",
       "\n",
       "                            Name          Price  \\\n",
       "0         Acer Chromebook Tab 10  About 330 EUR   \n",
       "1             Acer Iconia Talk S  About 170 EUR   \n",
       "2            Acer Liquid Z6 Plus  About 250 EUR   \n",
       "3                 Acer Liquid Z6  About 120 EUR   \n",
       "4      Acer Iconia Tab 10 A3-A40  About 230 EUR   \n",
       "...                          ...            ...   \n",
       "10924                   ZTE F103            NaN   \n",
       "10925                   ZTE F101            NaN   \n",
       "10926                   ZTE F100            NaN   \n",
       "10927        ZTE Coral200 Sollar            NaN   \n",
       "10928              ZTE Blade V20            NaN   \n",
       "\n",
       "                                                 reviews  \n",
       "0      ['screen easily worthy device ipad users want ...  \n",
       "1      ['helmi nov get one freeokay get', 'get one fr...  \n",
       "2      ['last acer phone ever mad', 'arkinwhere aug m...  \n",
       "3      ['edge screen fell part part', 'excellent phon...  \n",
       "4      ['sea apr know battery keeps draining fast got...  \n",
       "...                                                  ...  \n",
       "10924                    ['suggest try zte update tool']  \n",
       "10925  ['buy battery zte cannot use phone bec battery...  \n",
       "10926  ['typical phone time', 'nwhy introduce aparese...  \n",
       "10927  ['cool', 'games phone', 'zte colar sollar sola...  \n",
       "10928  ['redmagic sep cancelled miss phone much nstil...  \n",
       "\n",
       "[10929 rows x 4 columns]"
      ]
     },
     "execution_count": 25,
     "metadata": {},
     "output_type": "execute_result"
    }
   ],
   "source": [
    "new_Data1"
   ]
  },
  {
   "cell_type": "code",
   "execution_count": null,
   "id": "cd3446f6-a3c6-4791-9c27-11ee08d5d606",
   "metadata": {},
   "outputs": [],
   "source": []
  },
  {
   "cell_type": "code",
   "execution_count": 26,
   "id": "7c444e80-dbee-4e2a-b4c3-32ff5d131b0f",
   "metadata": {},
   "outputs": [
    {
     "name": "stdout",
     "output_type": "stream",
     "text": [
      "Data appended successfully.\n"
     ]
    }
   ],
   "source": [
    "new=pd.DataFrame(new_Data1)\n",
    "new.rename(columns = {0:'Link', 1:'Name', 2:'Price', 3:'reviews'}, inplace = True)\n",
    "\n",
    "new.to_csv('Updated_Data.csv', mode='a', index=False)\n",
    "\n",
    "# # # print message\n",
    "print(\"Data appended successfully.\")"
   ]
  },
  {
   "cell_type": "code",
   "execution_count": null,
   "id": "63f51685-e739-4786-8992-7f1536cbe1be",
   "metadata": {},
   "outputs": [],
   "source": []
  },
  {
   "cell_type": "code",
   "execution_count": null,
   "id": "7427f94b-8e68-4375-abbe-6a6c78a4709c",
   "metadata": {},
   "outputs": [],
   "source": []
  },
  {
   "cell_type": "code",
   "execution_count": null,
   "id": "e1da42f4-b736-49ba-8dbb-a90df8a6f485",
   "metadata": {},
   "outputs": [],
   "source": []
  }
 ],
 "metadata": {
  "kernelspec": {
   "display_name": "Python 3 (ipykernel)",
   "language": "python",
   "name": "python3"
  },
  "language_info": {
   "codemirror_mode": {
    "name": "ipython",
    "version": 3
   },
   "file_extension": ".py",
   "mimetype": "text/x-python",
   "name": "python",
   "nbconvert_exporter": "python",
   "pygments_lexer": "ipython3",
   "version": "3.9.7"
  }
 },
 "nbformat": 4,
 "nbformat_minor": 5
}

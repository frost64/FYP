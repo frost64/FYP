{
 "cells": [
  {
   "cell_type": "code",
   "execution_count": 23,
   "id": "c03ce357-8d14-4741-8b27-c540922e9437",
   "metadata": {},
   "outputs": [],
   "source": [
    "# !pip install --user currencyconverter\n",
    "# !pip install CurrencyConverter\n",
    "# !pip install forex-python"
   ]
  },
  {
   "cell_type": "code",
   "execution_count": 1,
   "id": "42ab57a6-6102-4860-a67b-95247a1aa456",
   "metadata": {},
   "outputs": [],
   "source": [
    "import pandas as pd\n",
    "import numpy as np\n",
    "# from currency_converter import CurrencyConverter\n",
    "from forex_python.converter import CurrencyRates\n"
   ]
  },
  {
   "cell_type": "code",
   "execution_count": 2,
   "id": "93c72638-cf17-4504-900f-10986f2ef8de",
   "metadata": {},
   "outputs": [],
   "source": [
    "url = \"Data/all_brands_export.csv\"\n",
    "    # url = \"Data/acer-phones_export.csv\"\n",
    "db=pd.read_csv(url,low_memory = False,sep =',')"
   ]
  },
  {
   "cell_type": "code",
   "execution_count": 3,
   "id": "376c55da-0b8d-4682-b07e-0c3f5cb44a25",
   "metadata": {},
   "outputs": [],
   "source": [
    "price=pd.DataFrame(db)\n",
    "update_price=price['price'].fillna(0)"
   ]
  },
  {
   "cell_type": "code",
   "execution_count": 4,
   "id": "9af4f82b-7ec8-4d9e-81f9-ef9964eed997",
   "metadata": {},
   "outputs": [
    {
     "data": {
      "text/plain": [
       "0    About 330 EUR\n",
       "1    About 170 EUR\n",
       "2    About 250 EUR\n",
       "3    About 120 EUR\n",
       "4    About 230 EUR\n",
       "Name: price, dtype: object"
      ]
     },
     "execution_count": 4,
     "metadata": {},
     "output_type": "execute_result"
    }
   ],
   "source": [
    "update_price.head()"
   ]
  },
  {
   "cell_type": "code",
   "execution_count": 5,
   "id": "d8e1c11d-04b2-4a03-9426-d7691e440fd8",
   "metadata": {},
   "outputs": [],
   "source": [
    "# for i in update_price:\n",
    "#     if type(i) == str and  i.startswith('About') and ((i.endswith('EUR')) or (i.endswith('USD'))or (i.endswith('INR'))):\n",
    "#         print(i)\n",
    "    # updated_price=update_price[i]\n",
    "        # print(i)\n",
    "        "
   ]
  },
  {
   "cell_type": "code",
   "execution_count": 6,
   "id": "3538c493-6aae-4bc2-9506-0cc0d4a3bb11",
   "metadata": {},
   "outputs": [
    {
     "data": {
      "text/plain": [
       "0        About 330 EUR\n",
       "1        About 170 EUR\n",
       "2        About 250 EUR\n",
       "3        About 120 EUR\n",
       "4        About 230 EUR\n",
       "             ...      \n",
       "10924                0\n",
       "10925                0\n",
       "10926                0\n",
       "10927                0\n",
       "10928                0\n",
       "Name: price, Length: 10929, dtype: object"
      ]
     },
     "execution_count": 6,
     "metadata": {},
     "output_type": "execute_result"
    }
   ],
   "source": [
    "\n",
    "update_price"
   ]
  },
  {
   "cell_type": "code",
   "execution_count": 7,
   "id": "95ccb66b-3961-4cdb-b61e-6c64ec44540b",
   "metadata": {},
   "outputs": [],
   "source": [
    "def replace():\n",
    "    for i in update_price:\n",
    "        if type(i) == str and  (i.startswith('About') and ((i.endswith('EUR')) or (i.endswith('USD'))or (i.endswith('INR')))):\n",
    "            print(i)"
   ]
  },
  {
   "cell_type": "code",
   "execution_count": 8,
   "id": "76814817-555a-4a9f-9e6e-f9c760025b59",
   "metadata": {},
   "outputs": [],
   "source": [
    "# replace()"
   ]
  },
  {
   "cell_type": "code",
   "execution_count": 9,
   "id": "cf33f0a3-00f5-409d-acd0-61171b0ac4ba",
   "metadata": {},
   "outputs": [],
   "source": [
    "# update_price\n",
    "price_lst=[]\n",
    "for i in update_price:\n",
    "    if type(i) == str and  i.startswith('About') and ((i.endswith('EUR')) or (i.endswith('USD'))or (i.endswith('INR'))):\n",
    "        price_lst.append(i)\n",
    "    if type(i) == str and  not(i.startswith('About') and ((i.endswith('EUR')) or (i.endswith('USD'))or (i.endswith('INR')))):\n",
    "        price_lst.append(i.replace(i,'0'))\n",
    "    if type(i) == int:\n",
    "        price_lst.append(i)\n",
    "    "
   ]
  },
  {
   "cell_type": "code",
   "execution_count": 10,
   "id": "3ccaef37-7552-4b9b-9413-ba3a8de8b7f8",
   "metadata": {},
   "outputs": [],
   "source": [
    "# price_lst"
   ]
  },
  {
   "cell_type": "code",
   "execution_count": 11,
   "id": "199ae530-7fad-462c-bba0-40e88d04fa26",
   "metadata": {},
   "outputs": [],
   "source": [
    "\n",
    "# c = CurrencyRates()\n",
    "# amount = int(input(\"Enter the amount: \"))\n",
    "# from_currency = input(\"From Currency: \").upper()\n",
    "# to_currency = input(\"To Currency: \").upper()\n",
    "# print(from_currency, \" To \", to_currency, amount)\n",
    "# result = c.convert(from_currency, to_currency, amount)\n",
    "# print(result)\n",
    "# price_lst"
   ]
  },
  {
   "cell_type": "code",
   "execution_count": 12,
   "id": "cea00c04-6594-45cd-abbb-d2430c666ed4",
   "metadata": {},
   "outputs": [
    {
     "data": {
      "text/plain": [
       "0     About 330 EUR\n",
       "1     About 170 EUR\n",
       "2     About 250 EUR\n",
       "3     About 120 EUR\n",
       "4     About 230 EUR\n",
       "5     About 230 EUR\n",
       "6                 0\n",
       "7     About 200 EUR\n",
       "8     About 110 EUR\n",
       "9     About 350 EUR\n",
       "10    About 220 EUR\n",
       "11    About 110 EUR\n",
       "12     About 90 EUR\n",
       "13                0\n",
       "14    About 200 EUR\n",
       "15                0\n",
       "16    About 150 EUR\n",
       "17                0\n",
       "18                0\n",
       "19    About 250 EUR\n",
       "20    About 180 EUR\n",
       "21    About 190 EUR\n",
       "22    About 230 EUR\n",
       "23    About 200 EUR\n",
       "24    About 130 EUR\n",
       "25     About 90 EUR\n",
       "26     About 80 EUR\n",
       "27    About 130 EUR\n",
       "28    About 200 EUR\n",
       "29    About 150 EUR\n",
       "Name: price, dtype: object"
      ]
     },
     "execution_count": 12,
     "metadata": {},
     "output_type": "execute_result"
    }
   ],
   "source": [
    "# price_lst\n",
    "price=pd.DataFrame(price_lst)\n",
    "price.rename(columns = {0:'price'},inplace = True)\n",
    "price[\"price\"].head(30)"
   ]
  },
  {
   "cell_type": "code",
   "execution_count": null,
   "id": "b7933447-762b-4011-abbd-bca80e77d2cf",
   "metadata": {},
   "outputs": [],
   "source": [
    "update_price = []\n",
    "u_price = []\n",
    "amout = []\n",
    "c = CurrencyRates()\n",
    "for pr in price[\"price\"]:\n",
    "    \n",
    "    # print(pr)\n",
    "    if pr != '0':\n",
    "        if type(pr) == str :\n",
    "            # update_price.append(pr)\n",
    "            pr=pr.split()  \n",
    "            try:\n",
    "                if pr[2] == 'EUR':\n",
    "                    amount = int(pr[1])\n",
    "                    from_currency  = pr[2]\n",
    "                    to_currency = 'USD'\n",
    "                    result = c.convert(from_currency, to_currency, amount)\n",
    "                    update_price.append(result)\n",
    "                if pr[2] == 'USD':\n",
    "                    result = int(pr[1])\n",
    "                    update_price.append(result)\n",
    "\n",
    "                if pr[2] == 'INR':\n",
    "                    amount = int(pr[1])\n",
    "                    from_currency  = pr[2]\n",
    "                    to_currency = 'USD'\n",
    "                    result = c.convert(from_currency, to_currency, amount)\n",
    "                    update_price.append(result)\n",
    "            except:\n",
    "                u_price.append(pr)\n",
    "            \n",
    "    if pr == '0' or 0:\n",
    "        update_price.append(pr)\n",
    "        \n",
    "#     else:\n",
    "#         update_price.append(pr)\n",
    "        \n",
    "\n",
    "        # print(result)\n",
    "        \n",
    "        \n",
    "        # amount=\n",
    "        # print(int(amount))\n",
    "        \n",
    "    # if type(pr) == str and not(pr.startswith('About')and(pr.endswith('EUR'))):\n",
    "    #     print(pr)\n",
    "    # if type(pr) != str:\n",
    "    #     print()\n",
    "\n",
    "        # amount = price.strip()\n",
    "        # amout.append(amount)\n",
    "        # print(amout[1])\n",
    "    # if price == (price.endswith('USD')):\n",
    "    # if price==(price.endswith('INR')):\n",
    "                 \n",
    "        \n",
    "                                           "
   ]
  },
  {
   "cell_type": "code",
   "execution_count": null,
   "id": "0e90ef3a-edc3-461b-8f32-475fdc3b312a",
   "metadata": {},
   "outputs": [],
   "source": [
    "update_price\n",
    "# u_price"
   ]
  },
  {
   "cell_type": "code",
   "execution_count": null,
   "id": "99dbdb73-ea3c-4cc5-9f91-633dcfe89cc2",
   "metadata": {},
   "outputs": [],
   "source": [
    "# price[\"price\"][0][10:]"
   ]
  },
  {
   "cell_type": "code",
   "execution_count": null,
   "id": "9aa744f8-cb38-477c-9c38-4bb6bc6e3c03",
   "metadata": {},
   "outputs": [],
   "source": [
    "new=pd.DataFrame(update_price)\n",
    "new.rename(columns = {0:'reviews'}, inplace = True)\n",
    "\n",
    "new.to_csv('price.csv', mode='a', index=False)\n",
    "\n",
    "# # # print message\n",
    "print(\"Data appended successfully.\")"
   ]
  },
  {
   "cell_type": "code",
   "execution_count": null,
   "id": "d120839c-97ce-4ded-bdd6-0ee119e62225",
   "metadata": {},
   "outputs": [],
   "source": [
    "url = \"features_polarity_sum.csv\"\n",
    "polarity_sum=pd.read_csv(url,low_memory = False)\n",
    "polarity_sum.head()"
   ]
  },
  {
   "cell_type": "code",
   "execution_count": null,
   "id": "4cd04c9a-5871-48ea-83f4-fe89eede5aed",
   "metadata": {},
   "outputs": [],
   "source": []
  },
  {
   "cell_type": "code",
   "execution_count": null,
   "id": "aa7424d8-c62d-4023-8990-9b02327705a9",
   "metadata": {},
   "outputs": [],
   "source": []
  }
 ],
 "metadata": {
  "kernelspec": {
   "display_name": "Python 3 (ipykernel)",
   "language": "python",
   "name": "python3"
  },
  "language_info": {
   "codemirror_mode": {
    "name": "ipython",
    "version": 3
   },
   "file_extension": ".py",
   "mimetype": "text/x-python",
   "name": "python",
   "nbconvert_exporter": "python",
   "pygments_lexer": "ipython3",
   "version": "3.9.7"
  }
 },
 "nbformat": 4,
 "nbformat_minor": 5
}

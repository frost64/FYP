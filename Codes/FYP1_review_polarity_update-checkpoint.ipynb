{
 "cells": [
  {
   "cell_type": "code",
   "execution_count": 43,
   "id": "3b4e7836-eb0b-4b90-a2b4-a62d21dda804",
   "metadata": {},
   "outputs": [],
   "source": [
    "# !pip install textblob \n",
    "# !pip install scikit-learn\n",
    "# !pip install gensim\n",
    "# !pip install nltk\n",
    "# !pip install seaborn\n",
    "# !pip install matplotlib\n",
    "# !pip install skfeature-chappers\n"
   ]
  },
  {
   "cell_type": "code",
   "execution_count": 1,
   "id": "fa36c459-0f85-440b-b95c-b1f66e7aa89e",
   "metadata": {},
   "outputs": [
    {
     "name": "stderr",
     "output_type": "stream",
     "text": [
      "[nltk_data] Downloading package stopwords to\n",
      "[nltk_data]     /home/suleman/nltk_data...\n",
      "[nltk_data]   Package stopwords is already up-to-date!\n"
     ]
    }
   ],
   "source": [
    "import pandas as pd\n",
    "import seaborn as sns\n",
    "\n",
    "import matplotlib.pyplot as plt\n",
    "%matplotlib inline\n",
    "from sklearn import model_selection\n",
    "from textblob import TextBlob \n",
    "import numpy as np\n",
    "import re\n",
    "import nltk\n",
    "nltk.download('stopwords')\n",
    "\n",
    "from gensim.parsing.porter import PorterStemmer\n",
    "from gensim.utils import tokenize\n",
    "\n",
    "from nltk.corpus import stopwords\n",
    "stopwords = [word for word in stopwords.words('english')]\n",
    "from sklearn.feature_extraction.text import TfidfVectorizer\n",
    "from sklearn.naive_bayes import MultinomialNB\n",
    "\n",
    "from sklearn.svm import SVC\n",
    "from sklearn.ensemble import VotingClassifier\n",
    "from sklearn.metrics import classification_report, confusion_matrix, accuracy_score"
   ]
  },
  {
   "cell_type": "code",
   "execution_count": 2,
   "id": "658f82ba-3a41-4b6d-82a2-2635f1710332",
   "metadata": {},
   "outputs": [],
   "source": [
    "\n",
    "def listing():\n",
    "    \"\"\"\n",
    "        i) Read data from csv.\n",
    "        ii) Convert data to numpy array.\n",
    "        iii) Split data with comma.\n",
    "        iv) Appends data into list.\n",
    "    \"\"\"\n",
    "\n",
    "    url = \"Data/all_brands_export.csv\"\n",
    "    db=pd.read_csv(url,low_memory = False)#,sep= ',', error_bad_lines=False, index_col=False, dtype='unicode')\n",
    "    # db[\"review\"]\n",
    "    reviews = np.array(db[\"review\"])\n",
    "    # print(reviews)\n",
    "\n",
    "    super_list = []\n",
    "    for sent in reviews:\n",
    "\n",
    "        temp= []\n",
    "        try:\n",
    "            temp = list(sent.split(\",\"))\n",
    "            super_list.append(temp)\n",
    "\n",
    "        except:\n",
    "            super_list.append(\"None\")\n",
    "    return super_list\n"
   ]
  },
  {
   "cell_type": "code",
   "execution_count": 3,
   "id": "912b7cc2-4222-4d71-b09e-de166429ab6e",
   "metadata": {},
   "outputs": [],
   "source": [
    "# super_list_2=\n",
    "# listing()\n",
    "\n",
    "# for i in super_list_2[0]:\n",
    "#     print(i)"
   ]
  },
  {
   "cell_type": "code",
   "execution_count": 4,
   "id": "e0c7dd07-8222-4e72-90ed-e9f9826bb12b",
   "metadata": {
    "tags": []
   },
   "outputs": [],
   "source": [
    "def pre_process(sentence):  \n",
    "    \"\"\"\n",
    "        i) Remove special characters.\n",
    "        ii) Remove single characters.\n",
    "        iii) Replace multiple spaces with single spaces.\n",
    "    \"\"\"\n",
    "\n",
    "\n",
    "    # Remove all the special characters\n",
    "    processed_sentence = re.sub(r'\\W', ' ', str(sentence))\n",
    "\n",
    "    # remove all single characters\n",
    "    processed_sentence = re.sub(r'\\s+[a-zA-Z]\\s+', ' ', processed_sentence)\n",
    "\n",
    "    # Remove single characters from the start\n",
    "    processed_sentence= re.sub(r'\\^[a-zA-Z]\\s+', ' ', processed_sentence) \n",
    "\n",
    "    # Substituting multiple spaces with single space\n",
    "    processed_sentence= re.sub(r'\\s+', ' ', processed_sentence, flags=re.I)\n",
    "\n",
    "    # Removing prefixed 'b'\n",
    "    processed_sentence = re.sub(r'^b\\s+', '', processed_sentence)\n",
    "    \n",
    "   \n",
    "    return processed_sentence\n"
   ]
  },
  {
   "cell_type": "code",
   "execution_count": 5,
   "id": "ca2258d5-0430-4b4a-b0aa-5b668a3c18f3",
   "metadata": {},
   "outputs": [],
   "source": [
    "def updated_sentence(sentence):\n",
    "    \"\"\"\n",
    "        i) Lower cases the sentence.\n",
    "        ii) Sentence stemming.\n",
    "        iii) Tokenization of sentence.\n",
    "        iv) Stop-words removal.\n",
    "        v) Returns list after all above operations.\n",
    "    \"\"\"\n",
    "    sentence = sentence.lower()\n",
    "    new = \" \"\n",
    "    p = PorterStemmer()\n",
    "    processed = pre_process(sentence)\n",
    "    stemmed = p.stem(processed)\n",
    "    tokens = tokenize(stemmed.strip())\n",
    "    lst=list(tokens)\n",
    "    lst2 = []\n",
    "    for i in lst:\n",
    "        #using nltk dic for stopwords\n",
    "        if  i not in stopwords :\n",
    "            lst2.append(i)\n",
    "    return (new.join(lst2))"
   ]
  },
  {
   "cell_type": "code",
   "execution_count": 6,
   "id": "a6db8bd4-8c3e-4c8b-aad1-1427a5d70503",
   "metadata": {},
   "outputs": [],
   "source": [
    "def polarity_scaling(polarity):\n",
    "    \"\"\"\n",
    "        Scaling of polarity into three classes i.e. negative, positive and neutral.\n",
    "    \"\"\"\n",
    "    # 0  nutral\n",
    "    if polarity  == 0:\n",
    "        return 0\n",
    "    # greater then 0  positive\n",
    "    elif polarity > 0:\n",
    "        return 1\n",
    "    else:\n",
    "    # less then 0  negative\n",
    "        return -1    "
   ]
  },
  {
   "cell_type": "code",
   "execution_count": 7,
   "id": "c26f9974-f4a5-43ff-88e3-4f25e624fe36",
   "metadata": {},
   "outputs": [],
   "source": [
    "def reviews_list_polarity(super_list):\n",
    "    \n",
    "    for_reviews = []\n",
    "    for_polarity = []\n",
    "    updated_review_Dict = {}\n",
    "    super_list_2 = []\n",
    "    list_reviews = []\n",
    "    list_polarity = []\n",
    "\n",
    "    for remove_none_type in super_list:\n",
    "        if remove_none_type != \"None\":\n",
    "            super_list_2.append(remove_none_type)\n",
    "\n",
    "            lst_list = []\n",
    "            lst_list_2 = []\n",
    "            for i in super_list_2:\n",
    "                new1 =i.strip().split(\".\")\n",
    "\n",
    "            for j in new1:\n",
    "                j = updated_sentence(j)\n",
    "                temp =j.replace(\"\\r\\n\" ,\"\")\n",
    "                pol = TextBlob(temp).sentiment.polarity\n",
    "                polarity=polarity_scaling(pol)\n",
    "                tup = (temp ,polarity)\n",
    "                lst_list.append(tup)\n",
    "            for remove_tuple in lst_list:\n",
    "                if remove_tuple != ('',0):\n",
    "                    lst_list_2.append(remove_tuple)\n",
    "\n",
    "            if lst_list_2 != []:\n",
    "                for_reviews.append(lst_list_2[0][0])\n",
    "                for_polarity.append(lst_list_2[0][1])\n",
    "        \n",
    "        # print(for_reviews)   \n",
    "        updated_review_Dict[\"reviews\"]=for_reviews\n",
    "        updated_review_Dict[\"polarity\"]=for_polarity\n",
    "        list_reviews=updated_review_Dict[\"reviews\"]\n",
    "        list_polarity=updated_review_Dict[\"polarity\"]\n",
    "\n",
    "    # count +=1\n",
    "    # print(\"count : \",count ,\" ->>>\", list_reviews)\n",
    "    \n",
    "    return list_reviews,list_polarity\n"
   ]
  },
  {
   "cell_type": "code",
   "execution_count": 8,
   "id": "9bcba720-325c-4ff7-9b2e-fd42cb792204",
   "metadata": {},
   "outputs": [
    {
     "name": "stdout",
     "output_type": "stream",
     "text": [
      "10929\n"
     ]
    }
   ],
   "source": [
    "super_list = listing()\n",
    "print(len(super_list))\n",
    "list_lst=[]\n",
    "list_lst_1=[]\n",
    "for i in range(len(super_list)):\n",
    "    list_lst.append(reviews_list_polarity(super_list[i]))\n",
    "    # list_lst_1.append(list_lst)\n",
    "# print(list_lst_1)"
   ]
  },
  {
   "cell_type": "code",
   "execution_count": 9,
   "id": "981dc3bf-de93-49b5-8d9e-1028a7e2440c",
   "metadata": {},
   "outputs": [
    {
     "name": "stdout",
     "output_type": "stream",
     "text": [
      "Data appended successfully.\n"
     ]
    }
   ],
   "source": [
    "data=pd.DataFrame(list_lst)\n",
    "data.rename(columns = {0:'reviews', 1:'polarity'}, inplace = True)\n",
    "data\n",
    "data[\"polarity\"].to_csv('reviews_polarity.csv', mode='a', index=False)\n",
    "\n",
    "# # # print message\n",
    "print(\"Data appended successfully.\")"
   ]
  },
  {
   "cell_type": "code",
   "execution_count": null,
   "id": "7abceccf-5b36-44f0-bdca-392c5eb16e9a",
   "metadata": {},
   "outputs": [],
   "source": [
    "# db['review'][0] = data['reviews'][0]"
   ]
  },
  {
   "cell_type": "code",
   "execution_count": 939,
   "id": "cd9b33b8-9a46-4886-846e-41629d7f8db6",
   "metadata": {},
   "outputs": [],
   "source": [
    "# url = \"reviews_polarity.csv\"\n",
    "# db=pd.read_csv(url,low_memory = False)"
   ]
  },
  {
   "cell_type": "code",
   "execution_count": 940,
   "id": "90c0eec3-5c31-4c31-bfdb-eebee49f1b77",
   "metadata": {},
   "outputs": [],
   "source": [
    "# db.head(30)"
   ]
  },
  {
   "cell_type": "code",
   "execution_count": 941,
   "id": "3bb03047-0afe-4ecd-9164-e7a80f40cdd4",
   "metadata": {},
   "outputs": [],
   "source": [
    "\n",
    "# url = \"Data/changes/all_brands_export.csv\"\n",
    "# db=pd.read_csv(url,low_memory = False)\n",
    "# db[\"reviews\"].head(30)"
   ]
  },
  {
   "cell_type": "code",
   "execution_count": 11,
   "id": "68fe3c01-7407-4886-97f9-d45f3eb3ce0a",
   "metadata": {},
   "outputs": [],
   "source": [
    "# url = \"reviews_polarity.csv\"\n",
    "# db=pd.read_csv(url,low_memory = False)\n",
    "# db[\"reviews\"].head(30)\n"
   ]
  },
  {
   "cell_type": "code",
   "execution_count": 920,
   "id": "371a6fa1-f23c-4e96-b2e2-5cedb0e812c3",
   "metadata": {},
   "outputs": [
    {
     "name": "stdout",
     "output_type": "stream",
     "text": [
      "Data appended successfully.\n"
     ]
    }
   ],
   "source": [
    "new=pd.DataFrame(dict_new)\n",
    "new.rename(columns = {0:'reviews'}, inplace = True)\n",
    "\n",
    "new.to_csv('reviews_polarity_1.csv', mode='a', index=False)\n",
    "\n",
    "# # # print message\n",
    "print(\"Data appended successfully.\")"
   ]
  },
  {
   "cell_type": "code",
   "execution_count": 987,
   "id": "d4238b21-a5c1-4956-b989-f139e1446f8c",
   "metadata": {},
   "outputs": [
    {
     "data": {
      "text/plain": [
       "0     ['screen easily worthy device ipad users want ...\n",
       "1     ['helmi nov get one freeokay get', 'get one fr...\n",
       "2     ['last acer phone ever mad', 'arkinwhere aug m...\n",
       "3     ['edge screen fell part part', 'excellent phon...\n",
       "4     ['sea apr know battery keeps draining fast got...\n",
       "5     ['still use phone backup', 'phone case availab...\n",
       "6     ['available belgium', 'india launches date', '...\n",
       "7     ['year', 'laforge jan worst phone ev', 'worst ...\n",
       "8     ['zieg mar phone acer liquid zest g micro usb ...\n",
       "9     ['anonymous jun battery device broken', 'anony...\n",
       "10    ['burnt sep get swindled buying phon', 'macbet...\n",
       "11    ['hotspot portable', 'amelis nov love cost eur...\n",
       "12    ['phone proof durable anti fall damage phone f...\n",
       "13    ['lipun may sir plz tell set jio sim acer liqu...\n",
       "14    ['compatible gb microsd card', 'anonymous may ...\n",
       "15    ['gyanboy jun wen dis phn com', 'wen dis phn c...\n",
       "16    ['theptguy apr phone amazing bought years ago ...\n",
       "17    ['keiko sep yes battery last days standby mod'...\n",
       "18    ['anond dec erase pictures phone reset factory...\n",
       "19    ['bought one birthday years ago good tablet be...\n",
       "20    ['tablet keeps freezing first year really sati...\n",
       "21    ['solid tablet served well thru years great re...\n",
       "22    ['john jan buy replacement screen fhd tablet a...\n",
       "23    ['sim card slot memory card spoiled nowhere te...\n",
       "24    ['einsthepogs mar battery fast discharge even ...\n",
       "25    ['anonymous aug hello mr', 'eryk sep acer alwa...\n",
       "26    ['mel nov problem marciano nsim always invalid...\n",
       "27    ['otg working acer way n fix add vr usb mouse ...\n",
       "28    ['phone years ago happy performance unbeliev',...\n",
       "29    ['help nmy acer z message functioning well nal...\n",
       "Name: reviews, dtype: object"
      ]
     },
     "execution_count": 987,
     "metadata": {},
     "output_type": "execute_result"
    }
   ],
   "source": [
    "url = \"Data/new data/all_brands_export.csv\"\n",
    "db=pd.read_csv(url,low_memory = False)\n",
    "db[\"reviews\"].head(30)\n"
   ]
  },
  {
   "cell_type": "code",
   "execution_count": 988,
   "id": "594d4e14-e6f9-4282-bdeb-df125548c4fc",
   "metadata": {},
   "outputs": [
    {
     "data": {
      "text/plain": [
       "0     [1, 0, 1, 1, -1, 0, 0, 0, 0, 0, 1, 1, 0, 1, -1...\n",
       "1     [0, 1, 1, 0, 1, 0, 0, 0, 1, 1, -1, 1, -1, 0, 0...\n",
       "2     [-1, 0, 0, 0, 0, 0, 0, 0, 0, -1, 0, 1, 1, 0, 0...\n",
       "3                                             [0, 1, 1]\n",
       "4     [1, 1, 1, 0, 0, 0, 0, 0, -1, 0, 0, 0, 1, 1, 1,...\n",
       "5     [0, 1, -1, 1, 0, 0, 1, 0, 1, 1, 1, 1, 1, 1, 1,...\n",
       "6     [1, 0, 0, 0, 0, 0, 0, 0, 0, 1, 1, 0, 0, -1, 1,...\n",
       "7     [0, -1, -1, 1, -1, 1, 1, 0, -1, 0, -1, 1, -1, ...\n",
       "8     [1, 0, 1, 1, 1, -1, 1, 0, 1, -1, -1, -1, -1, 0...\n",
       "9     [-1, -1, -1, 1, -1, 0, 1, 0, -1, 0, 1, 0, -1, ...\n",
       "10    [0, 0, 1, 0, 0, 1, 1, 1, 0, -1, 1, 1, 0, 0, 1,...\n",
       "11    [0, 1, 1, 1, 0, 0, 0, 0, 0, 0, 0, -1, 0, -1, 1...\n",
       "12    [1, 0, 0, 1, 0, -1, 0, 1, 0, 0, 1, 0, 0, 1, 1,...\n",
       "13    [0, 0, 0, 1, -1, 0, 0, 1, 1, 0, 0, 0, 0, -1, 0...\n",
       "14    [0, -1, 1, 0, 0, -1, -1, 0, 0, 1, -1, 0, -1, -...\n",
       "15                            [0, 0, 1, 0, 1, 0, -1, 1]\n",
       "16    [1, 1, 0, 1, 0, -1, 1, 0, 0, 0, 1, -1, 1, 0, 0...\n",
       "17    [1, 0, 0, 1, 1, 0, 0, 0, 0, 0, 0, -1, 1, 1, 1,...\n",
       "18                                            [0, 0, 1]\n",
       "19    [1, 1, 1, 1, -1, -1, 0, 1, 0, 1, 1, 1, 0, -1, ...\n",
       "20                 [1, 0, 0, 0, 0, 0, 0, 0, 0, 0, 0, 0]\n",
       "21                                                  [1]\n",
       "22                                                 [-1]\n",
       "23    [-1, 1, -1, 0, 0, -1, -1, 1, -1, 1, 0, -1, -1,...\n",
       "24    [1, 1, 0, 1, 1, 1, 0, 0, 0, 0, 0, 1, 0, 0, 1, ...\n",
       "25    [0, 0, 0, 0, 0, 0, -1, 1, 0, 1, -1, -1, 0, 0, ...\n",
       "26    [0, -1, 0, 1, 0, 0, 0, 0, -1, -1, 0, 0, 0, 0, ...\n",
       "27    [0, 1, 1, 1, -1, 0, 0, 0, 1, 1, -1, 1, 1, 1, -...\n",
       "28    [1, 1, 1, 1, 1, 1, 1, 0, 0, 0, 0, 0, 1, 0, 0, ...\n",
       "29    [0, 1, 1, 0, 1, 1, 1, -1, 0, 0, 1, 0, -1, 0, 0...\n",
       "Name: polarity, dtype: object"
      ]
     },
     "execution_count": 988,
     "metadata": {},
     "output_type": "execute_result"
    }
   ],
   "source": [
    "db[\"polarity\"].head(30)"
   ]
  },
  {
   "cell_type": "code",
   "execution_count": null,
   "id": "eaa5c874-8ed9-4d16-a325-ddc7391037f0",
   "metadata": {},
   "outputs": [],
   "source": []
  }
 ],
 "metadata": {
  "kernelspec": {
   "display_name": "Python 3",
   "language": "python",
   "name": "python3"
  },
  "language_info": {
   "codemirror_mode": {
    "name": "ipython",
    "version": 3
   },
   "file_extension": ".py",
   "mimetype": "text/x-python",
   "name": "python",
   "nbconvert_exporter": "python",
   "pygments_lexer": "ipython3",
   "version": "3.9.7"
  }
 },
 "nbformat": 4,
 "nbformat_minor": 5
}
